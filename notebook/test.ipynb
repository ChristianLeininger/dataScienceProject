{
 "cells": [
  {
   "cell_type": "code",
   "execution_count": 24,
   "metadata": {},
   "outputs": [],
   "source": [
    "import pymc3 as pm\n",
    "import pandas as pd\n",
    "import numpy as np\n",
    "import theano.tensor as T\n",
    "from sklearn.model_selection import train_test_split\n",
    "from sklearn.preprocessing import StandardScaler\n",
    "import pickle\n",
    "from theano import shared"
   ]
  },
  {
   "cell_type": "code",
   "execution_count": 65,
   "metadata": {},
   "outputs": [],
   "source": [
    "df = pd.read_csv(\"../data/dmc2001_learn.txt\", sep=\";\")\n",
    "df = df.fillna(df.mean(numeric_only=True))\n",
    "# Preprocessing: let's assume all your columns are numerical for simplicity\n",
    "df['WO'] = df['WO'].replace({'W': 1, 'O': 0, 'F': 2})\n",
    "train, test = train_test_split(df, test_size=0.2)"
   ]
  },
  {
   "cell_type": "code",
   "execution_count": 66,
   "metadata": {},
   "outputs": [
    {
     "data": {
      "text/plain": [
       "((8000, 35), (2000, 35))"
      ]
     },
     "execution_count": 66,
     "metadata": {},
     "output_type": "execute_result"
    }
   ],
   "source": [
    "train.shape, test.shape"
   ]
  },
  {
   "cell_type": "code",
   "execution_count": 68,
   "metadata": {},
   "outputs": [
    {
     "data": {
      "text/html": [
       "<div>\n",
       "<style scoped>\n",
       "    .dataframe tbody tr th:only-of-type {\n",
       "        vertical-align: middle;\n",
       "    }\n",
       "\n",
       "    .dataframe tbody tr th {\n",
       "        vertical-align: top;\n",
       "    }\n",
       "\n",
       "    .dataframe thead th {\n",
       "        text-align: right;\n",
       "    }\n",
       "</style>\n",
       "<table border=\"1\" class=\"dataframe\">\n",
       "  <thead>\n",
       "    <tr style=\"text-align: right;\">\n",
       "      <th></th>\n",
       "      <th>ID</th>\n",
       "      <th>jahrstart</th>\n",
       "      <th>AKTIV</th>\n",
       "      <th>WO</th>\n",
       "      <th>Regiotyp</th>\n",
       "      <th>Kaufkraft</th>\n",
       "      <th>Bebautyp</th>\n",
       "      <th>Strtyp</th>\n",
       "      <th>Bonitaet</th>\n",
       "      <th>Famgr</th>\n",
       "      <th>...</th>\n",
       "      <th>Typ7</th>\n",
       "      <th>Typ8</th>\n",
       "      <th>Typ9</th>\n",
       "      <th>Abogr</th>\n",
       "      <th>PHARM1</th>\n",
       "      <th>PHARM2</th>\n",
       "      <th>PHARM3</th>\n",
       "      <th>PHARM4</th>\n",
       "      <th>PHARM5</th>\n",
       "      <th>PHARM6</th>\n",
       "    </tr>\n",
       "  </thead>\n",
       "  <tbody>\n",
       "    <tr>\n",
       "      <th>4383</th>\n",
       "      <td>390277</td>\n",
       "      <td>1997</td>\n",
       "      <td>1</td>\n",
       "      <td>0</td>\n",
       "      <td>13.000000</td>\n",
       "      <td>-5.000000</td>\n",
       "      <td>2.000000</td>\n",
       "      <td>3.000000</td>\n",
       "      <td>7.00000</td>\n",
       "      <td>4.00000</td>\n",
       "      <td>...</td>\n",
       "      <td>4.000000</td>\n",
       "      <td>5.000000</td>\n",
       "      <td>4.000000</td>\n",
       "      <td>4.52335</td>\n",
       "      <td>1.000000</td>\n",
       "      <td>3.000000</td>\n",
       "      <td>4.000000</td>\n",
       "      <td>2.000000</td>\n",
       "      <td>4.000000</td>\n",
       "      <td>6.000000</td>\n",
       "    </tr>\n",
       "    <tr>\n",
       "      <th>4475</th>\n",
       "      <td>93207</td>\n",
       "      <td>1990</td>\n",
       "      <td>0</td>\n",
       "      <td>0</td>\n",
       "      <td>12.000000</td>\n",
       "      <td>-4.000000</td>\n",
       "      <td>1.000000</td>\n",
       "      <td>1.000000</td>\n",
       "      <td>7.00000</td>\n",
       "      <td>6.00000</td>\n",
       "      <td>...</td>\n",
       "      <td>3.860556</td>\n",
       "      <td>3.751168</td>\n",
       "      <td>3.935316</td>\n",
       "      <td>4.52335</td>\n",
       "      <td>3.742703</td>\n",
       "      <td>4.093642</td>\n",
       "      <td>4.256055</td>\n",
       "      <td>4.270869</td>\n",
       "      <td>3.858023</td>\n",
       "      <td>3.690486</td>\n",
       "    </tr>\n",
       "    <tr>\n",
       "      <th>3207</th>\n",
       "      <td>56049</td>\n",
       "      <td>1992</td>\n",
       "      <td>0</td>\n",
       "      <td>1</td>\n",
       "      <td>15.000000</td>\n",
       "      <td>2.000000</td>\n",
       "      <td>1.000000</td>\n",
       "      <td>1.000000</td>\n",
       "      <td>3.00000</td>\n",
       "      <td>6.00000</td>\n",
       "      <td>...</td>\n",
       "      <td>5.000000</td>\n",
       "      <td>1.000000</td>\n",
       "      <td>3.000000</td>\n",
       "      <td>2.00000</td>\n",
       "      <td>6.000000</td>\n",
       "      <td>7.000000</td>\n",
       "      <td>2.000000</td>\n",
       "      <td>6.000000</td>\n",
       "      <td>2.000000</td>\n",
       "      <td>6.000000</td>\n",
       "    </tr>\n",
       "    <tr>\n",
       "      <th>2757</th>\n",
       "      <td>341018</td>\n",
       "      <td>1996</td>\n",
       "      <td>1</td>\n",
       "      <td>1</td>\n",
       "      <td>11.000000</td>\n",
       "      <td>6.000000</td>\n",
       "      <td>2.000000</td>\n",
       "      <td>3.000000</td>\n",
       "      <td>7.00000</td>\n",
       "      <td>9.00000</td>\n",
       "      <td>...</td>\n",
       "      <td>4.000000</td>\n",
       "      <td>3.000000</td>\n",
       "      <td>5.000000</td>\n",
       "      <td>6.00000</td>\n",
       "      <td>6.000000</td>\n",
       "      <td>5.000000</td>\n",
       "      <td>3.000000</td>\n",
       "      <td>1.000000</td>\n",
       "      <td>6.000000</td>\n",
       "      <td>1.000000</td>\n",
       "    </tr>\n",
       "    <tr>\n",
       "      <th>7137</th>\n",
       "      <td>363931</td>\n",
       "      <td>1996</td>\n",
       "      <td>1</td>\n",
       "      <td>2</td>\n",
       "      <td>13.591884</td>\n",
       "      <td>2.942619</td>\n",
       "      <td>1.735179</td>\n",
       "      <td>1.619571</td>\n",
       "      <td>4.97971</td>\n",
       "      <td>5.41583</td>\n",
       "      <td>...</td>\n",
       "      <td>3.860556</td>\n",
       "      <td>3.751168</td>\n",
       "      <td>3.935316</td>\n",
       "      <td>4.52335</td>\n",
       "      <td>3.742703</td>\n",
       "      <td>4.093642</td>\n",
       "      <td>4.256055</td>\n",
       "      <td>4.270869</td>\n",
       "      <td>3.858023</td>\n",
       "      <td>3.690486</td>\n",
       "    </tr>\n",
       "  </tbody>\n",
       "</table>\n",
       "<p>5 rows × 35 columns</p>\n",
       "</div>"
      ],
      "text/plain": [
       "          ID  jahrstart  AKTIV  WO   Regiotyp  Kaufkraft  Bebautyp    Strtyp   \n",
       "4383  390277       1997      1   0  13.000000  -5.000000  2.000000  3.000000  \\\n",
       "4475   93207       1990      0   0  12.000000  -4.000000  1.000000  1.000000   \n",
       "3207   56049       1992      0   1  15.000000   2.000000  1.000000  1.000000   \n",
       "2757  341018       1996      1   1  11.000000   6.000000  2.000000  3.000000   \n",
       "7137  363931       1996      1   2  13.591884   2.942619  1.735179  1.619571   \n",
       "\n",
       "      Bonitaet    Famgr  ...      Typ7      Typ8      Typ9    Abogr    PHARM1   \n",
       "4383   7.00000  4.00000  ...  4.000000  5.000000  4.000000  4.52335  1.000000  \\\n",
       "4475   7.00000  6.00000  ...  3.860556  3.751168  3.935316  4.52335  3.742703   \n",
       "3207   3.00000  6.00000  ...  5.000000  1.000000  3.000000  2.00000  6.000000   \n",
       "2757   7.00000  9.00000  ...  4.000000  3.000000  5.000000  6.00000  6.000000   \n",
       "7137   4.97971  5.41583  ...  3.860556  3.751168  3.935316  4.52335  3.742703   \n",
       "\n",
       "        PHARM2    PHARM3    PHARM4    PHARM5    PHARM6  \n",
       "4383  3.000000  4.000000  2.000000  4.000000  6.000000  \n",
       "4475  4.093642  4.256055  4.270869  3.858023  3.690486  \n",
       "3207  7.000000  2.000000  6.000000  2.000000  6.000000  \n",
       "2757  5.000000  3.000000  1.000000  6.000000  1.000000  \n",
       "7137  4.093642  4.256055  4.270869  3.858023  3.690486  \n",
       "\n",
       "[5 rows x 35 columns]"
      ]
     },
     "execution_count": 68,
     "metadata": {},
     "output_type": "execute_result"
    }
   ],
   "source": [
    "train.head()"
   ]
  },
  {
   "cell_type": "code",
   "execution_count": 70,
   "metadata": {},
   "outputs": [
    {
     "name": "stderr",
     "output_type": "stream",
     "text": [
      "/tmp/ipykernel_110692/1437999406.py:24: FutureWarning: In v4.0, pm.sample will return an `arviz.InferenceData` object instead of a `MultiTrace` by default. You can pass return_inferencedata=True or return_inferencedata=False to be safe and silence this warning.\n",
      "  trace = pm.sample(20, tune=1000)\n",
      "Only 20 samples in chain.\n",
      "Auto-assigning NUTS sampler...\n",
      "Initializing NUTS using jitter+adapt_diag...\n",
      "Multiprocess sampling (4 chains in 4 jobs)\n",
      "NUTS: [PHARM6, PHARM5, PHARM4, PHARM3, PHARM2, PHARM1, Abogr, Typ9, Typ8, Typ7, Typ6, Typ5, Typ4, Typ3, Typ2, Typ1, PKW_Gel, PKW_GW, PKW_KB, PKW_Lei, PKW_Di, AnzGew, AnzHH, AntDt, Altersgr, Famgr, Bonitaet, Strtyp, Bebautyp, Kaufkraft, Regiotyp, WO, jahrstart, ID]\n"
     ]
    },
    {
     "data": {
      "text/html": [
       "\n",
       "<style>\n",
       "    /* Turns off some styling */\n",
       "    progress {\n",
       "        /* gets rid of default border in Firefox and Opera. */\n",
       "        border: none;\n",
       "        /* Needs to be in here for Safari polyfill so background images work as expected. */\n",
       "        background-size: auto;\n",
       "    }\n",
       "    progress:not([value]), progress:not([value])::-webkit-progress-bar {\n",
       "        background: repeating-linear-gradient(45deg, #7e7e7e, #7e7e7e 10px, #5c5c5c 10px, #5c5c5c 20px);\n",
       "    }\n",
       "    .progress-bar-interrupted, .progress-bar-interrupted::-webkit-progress-bar {\n",
       "        background: #F44336;\n",
       "    }\n",
       "</style>\n"
      ],
      "text/plain": [
       "<IPython.core.display.HTML object>"
      ]
     },
     "metadata": {},
     "output_type": "display_data"
    },
    {
     "data": {
      "text/html": [
       "\n",
       "    <div>\n",
       "      <progress value='4080' class='' max='4080' style='width:300px; height:20px; vertical-align: middle;'></progress>\n",
       "      100.00% [4080/4080 07:28&lt;00:00 Sampling 4 chains, 0 divergences]\n",
       "    </div>\n",
       "    "
      ],
      "text/plain": [
       "<IPython.core.display.HTML object>"
      ]
     },
     "metadata": {},
     "output_type": "display_data"
    },
    {
     "name": "stderr",
     "output_type": "stream",
     "text": [
      "Sampling 4 chains for 1_000 tune and 20 draw iterations (4_000 + 80 draws total) took 449 seconds.\n",
      "/home/programmer/miniconda3/envs/dataProject/lib/python3.11/site-packages/pymc3/sampling.py:644: UserWarning: The number of samples is too small to check convergence reliably.\n",
      "  warnings.warn(\"The number of samples is too small to check convergence reliably.\")\n"
     ]
    },
    {
     "data": {
      "text/html": [
       "\n",
       "<style>\n",
       "    /* Turns off some styling */\n",
       "    progress {\n",
       "        /* gets rid of default border in Firefox and Opera. */\n",
       "        border: none;\n",
       "        /* Needs to be in here for Safari polyfill so background images work as expected. */\n",
       "        background-size: auto;\n",
       "    }\n",
       "    progress:not([value]), progress:not([value])::-webkit-progress-bar {\n",
       "        background: repeating-linear-gradient(45deg, #7e7e7e, #7e7e7e 10px, #5c5c5c 10px, #5c5c5c 20px);\n",
       "    }\n",
       "    .progress-bar-interrupted, .progress-bar-interrupted::-webkit-progress-bar {\n",
       "        background: #F44336;\n",
       "    }\n",
       "</style>\n"
      ],
      "text/plain": [
       "<IPython.core.display.HTML object>"
      ]
     },
     "metadata": {},
     "output_type": "display_data"
    },
    {
     "data": {
      "text/html": [
       "\n",
       "    <div>\n",
       "      <progress value='500' class='' max='500' style='width:300px; height:20px; vertical-align: middle;'></progress>\n",
       "      100.00% [500/500 00:06&lt;00:00]\n",
       "    </div>\n",
       "    "
      ],
      "text/plain": [
       "<IPython.core.display.HTML object>"
      ]
     },
     "metadata": {},
     "output_type": "display_data"
    }
   ],
   "source": [
    "import theano\n",
    "\n",
    "def create_shared_data(data):\n",
    "    shared_data = {}\n",
    "    for column in data.columns:\n",
    "        shared_data[column] = theano.shared(data[column].values)\n",
    "    return shared_data\n",
    "\n",
    "# Convert your DataFrame to shared variables\n",
    "shared_train_data = create_shared_data(train.drop('AKTIV', axis=1))\n",
    "shared_test_data = create_shared_data(test.drop('AKTIV', axis=1))\n",
    "\n",
    "with pm.Model() as model:\n",
    "    # Priors for each feature\n",
    "    priors = {col: pm.Normal(col, mu=0, sd=1) for col in train.columns if col != \"AKTIV\"}\n",
    "\n",
    "    # Expected value using logistic function\n",
    "    mu = pm.math.sigmoid(sum([priors[col] * shared_train_data[col] for col in train.columns if col != \"AKTIV\"]))\n",
    "\n",
    "    # Likelihood\n",
    "    AKTIV = pm.Bernoulli('AKTIV', p=mu, observed=train['AKTIV'])\n",
    "\n",
    "    # Sample\n",
    "    trace = pm.sample(20, tune=1000)\n",
    "\n",
    "# Switch to test data and generate posterior predictive samples\n",
    "for column in test.columns:\n",
    "    if column in shared_test_data:\n",
    "        shared_train_data[column].set_value(test[column].values)\n",
    "\n",
    "with model:\n",
    "    ppc = pm.sample_posterior_predictive(trace, samples=500)"
   ]
  },
  {
   "cell_type": "code",
   "execution_count": 71,
   "metadata": {},
   "outputs": [
    {
     "data": {
      "text/plain": [
       "(500, 2000)"
      ]
     },
     "execution_count": 71,
     "metadata": {},
     "output_type": "execute_result"
    }
   ],
   "source": [
    "ppc[\"AKTIV\"].shape"
   ]
  },
  {
   "cell_type": "code",
   "execution_count": 83,
   "metadata": {},
   "outputs": [
    {
     "data": {
      "text/plain": [
       "0.438"
      ]
     },
     "execution_count": 83,
     "metadata": {},
     "output_type": "execute_result"
    }
   ],
   "source": [
    "ppc[\"AKTIV\"][:,0].mean()"
   ]
  },
  {
   "cell_type": "code",
   "execution_count": 85,
   "metadata": {},
   "outputs": [
    {
     "data": {
      "text/plain": [
       "(2000,)"
      ]
     },
     "execution_count": 85,
     "metadata": {},
     "output_type": "execute_result"
    }
   ],
   "source": [
    "prediction =  np.mean(ppc[\"AKTIV\"], axis=0)\n",
    "prediction"
   ]
  },
  {
   "cell_type": "code",
   "execution_count": 92,
   "metadata": {},
   "outputs": [],
   "source": [
    "pred = [1 if x > 0.5 else 0 for x in prediction] \n",
    "lables_test = test[\"AKTIV\"].to_list()"
   ]
  },
  {
   "cell_type": "code",
   "execution_count": 95,
   "metadata": {},
   "outputs": [],
   "source": [
    "correct_predictions = sum(p == l for p, l in zip(pred, lables_test))\n",
    "accuracy = correct_predictions / len(lables_test) * 100"
   ]
  },
  {
   "cell_type": "code",
   "execution_count": 96,
   "metadata": {},
   "outputs": [
    {
     "data": {
      "text/plain": [
       "61.650000000000006"
      ]
     },
     "execution_count": 96,
     "metadata": {},
     "output_type": "execute_result"
    }
   ],
   "source": [
    "accuracy"
   ]
  },
  {
   "cell_type": "code",
   "execution_count": 102,
   "metadata": {},
   "outputs": [],
   "source": [
    "def cost_matrix(prediction, labels):\n",
    "    true_positive = 1.100\n",
    "    false_positive = -265\n",
    "    true_negative = -25\n",
    "    false_negative = 662\n",
    "    total_cost = 0\n",
    "    true_positive = 0\n",
    "    false_positive = 0\n",
    "    true_negative = 0\n",
    "    false_negative = 0\n",
    "    for pred, label in zip(prediction, labels):\n",
    "        if pred == 1 and label == 1:\n",
    "            total_cost += true_positive\n",
    "            true_positive += 1\n",
    "        elif pred == 1 and label == 0:\n",
    "            total_cost += false_positive\n",
    "            false_positive += 1\n",
    "        elif pred == 0 and label == 0:\n",
    "            total_cost += true_negative\n",
    "            true_negative += 1\n",
    "        elif pred == 0 and label == 1:\n",
    "            total_cost += false_negative\n",
    "            false_negative += 1\n",
    "        else:\n",
    "            raise ValueError(f\"pred {pred} label {label}\")\n",
    "    \n",
    "    print(f\"true_positive {true_positive} false_positive {false_positive} true_negative {true_negative} false_negative {false_negative}\")\n",
    "    return total_cost, true_positive, false_positive, true_negative, false_negative\n",
    "    \n",
    "    \n",
    "    "
   ]
  },
  {
   "cell_type": "code",
   "execution_count": 103,
   "metadata": {},
   "outputs": [
    {
     "name": "stdout",
     "output_type": "stream",
     "text": [
      "true_positive 725 false_positive 479 true_negative 508 false_negative 288\n"
     ]
    },
    {
     "data": {
      "text/plain": [
       "(547037, 725, 479, 508, 288)"
      ]
     },
     "execution_count": 103,
     "metadata": {},
     "output_type": "execute_result"
    }
   ],
   "source": [
    "cost_matrix(pred, lables_test)"
   ]
  },
  {
   "cell_type": "code",
   "execution_count": null,
   "metadata": {},
   "outputs": [],
   "source": []
  },
  {
   "cell_type": "code",
   "execution_count": null,
   "metadata": {},
   "outputs": [],
   "source": []
  }
 ],
 "metadata": {
  "kernelspec": {
   "display_name": "dataProject",
   "language": "python",
   "name": "dataproject"
  },
  "language_info": {
   "codemirror_mode": {
    "name": "ipython",
    "version": 3
   },
   "file_extension": ".py",
   "mimetype": "text/x-python",
   "name": "python",
   "nbconvert_exporter": "python",
   "pygments_lexer": "ipython3",
   "version": "3.11.4"
  }
 },
 "nbformat": 4,
 "nbformat_minor": 4
}
