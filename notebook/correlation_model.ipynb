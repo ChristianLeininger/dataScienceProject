{
 "cells": [
  {
   "cell_type": "code",
   "execution_count": 1,
   "metadata": {},
   "outputs": [],
   "source": [
    "import pymc3 as pm\n",
    "import pandas as pd\n",
    "import numpy as np\n",
    "import theano.tensor as T\n",
    "from sklearn.model_selection import train_test_split\n",
    "from sklearn.preprocessing import StandardScaler\n",
    "import pickle\n",
    "from theano import shared\n",
    "import theano"
   ]
  },
  {
   "cell_type": "code",
   "execution_count": 5,
   "metadata": {},
   "outputs": [],
   "source": [
    "df = pd.read_csv(\"../data/dmc2001_learn.txt\", sep=\";\")\n",
    "df_learn_mean = df.fillna(df.mean(numeric_only=True))\n",
    "# Preprocessing: let's assume all your columns are numerical for simplicity\n",
    "df_learn_mean['WO'] = df_learn_mean['WO'].replace({'W': 1, 'O': 0, 'F': 2})\n"
   ]
  },
  {
   "cell_type": "code",
   "execution_count": 7,
   "metadata": {},
   "outputs": [
    {
     "data": {
      "text/plain": [
       "['ID',\n",
       " 'jahrstart',\n",
       " 'Bonitaet',\n",
       " 'Bebautyp',\n",
       " 'PKW_GW',\n",
       " 'PHARM2',\n",
       " 'Famgr',\n",
       " 'PKW_Di',\n",
       " 'PHARM6',\n",
       " 'Altersgr',\n",
       " 'AntDt']"
      ]
     },
     "execution_count": 7,
     "metadata": {},
     "output_type": "execute_result"
    }
   ],
   "source": [
    "corr_matrix = df_learn_mean.corr()\n",
    "corr_with_target = corr_matrix['AKTIV'].sort_values(ascending=False)\n",
    "threathold = 0.05\n",
    "relevant_features = corr_with_target[corr_with_target.abs() > threathold].index.tolist()\n",
    "relevant_features.remove('AKTIV')\n",
    "relevant_features"
   ]
  },
  {
   "cell_type": "code",
   "execution_count": 9,
   "metadata": {},
   "outputs": [
    {
     "data": {
      "text/plain": [
       "(18128, 34)"
      ]
     },
     "execution_count": 9,
     "metadata": {},
     "output_type": "execute_result"
    }
   ],
   "source": [
    "train, valid = train_test_split(df, test_size=0.2)\n",
    "df_test_data = pd.read_csv(\"../data/dmc2001_class.txt\", sep=\";\")\n",
    "df_test_data = df_test_data.fillna(df_test_data.mean(numeric_only=True))\n",
    "# Preprocessing: let's assume all your columns are numerical for simplicity\n",
    "df_test_data['WO'] = df['WO'].replace({'W': 1, 'O': 0, 'F': 2})\n",
    "df_test_labels = pd.read_csv(\"../data/dmc2001_resp.txt\", sep=\";\")\n",
    "df_test_data.shape"
   ]
  },
  {
   "cell_type": "code",
   "execution_count": 3,
   "metadata": {},
   "outputs": [
    {
     "name": "stdout",
     "output_type": "stream",
     "text": [
      "train (8000, 35), valid (2000, 35), test (18128, 34) \n"
     ]
    }
   ],
   "source": [
    "train, valid = train_test_split(df, test_size=0.2)\n",
    "print(f\"train {train.shape}, valid {valid.shape}, test {df_test_data.shape} \")"
   ]
  },
  {
   "cell_type": "code",
   "execution_count": 8,
   "metadata": {},
   "outputs": [],
   "source": [
    "def create_shared_data(data):\n",
    "    shared_data = {}\n",
    "    for column in data.columns:\n",
    "        shared_data[column] = theano.shared(data[column].values)\n",
    "    return shared_data"
   ]
  },
  {
   "cell_type": "code",
   "execution_count": 12,
   "metadata": {},
   "outputs": [],
   "source": [
    "shared_train_data = create_shared_data(train.drop('AKTIV', axis=1))\n",
    "shared_valid_data = create_shared_data(valid.drop('AKTIV', axis=1))\n",
    "shared_test_data = create_shared_data(df_test_data)"
   ]
  },
  {
   "cell_type": "code",
   "execution_count": null,
   "metadata": {},
   "outputs": [],
   "source": [
    "with pm.Model() as model:\n",
    "    # Priors for each feature\n",
    "    priors = {feature: pm.Normal(feature, mu=0, sd=1) for feature in relevant_features}\n",
    "\n",
    "    # Expected value using logistic function\n",
    "    mu = pm.math.sigmoid(sum(priors[feature]*df_train[feature] for feature in relevant_features))\n",
    "\n",
    "    # Likelihood\n",
    "    AKTIV = pm.Bernoulli('AKTIV', p=mu, observed=train['AKTIV'])\n",
    "\n",
    "    # Sample\n",
    "    trace = pm.sample(2000, tune=1000)\n",
    "\n",
    "# Switch to test data and generate posterior predictive samples\n",
    "for column in valid.columns:\n",
    "    if column in shared_valid_data:\n",
    "        shared_train_data[column].set_value(valid[column].values)\n",
    "\n",
    "with model:\n",
    "    ppc_valid = pm.sample_posterior_predictive(trace, samples=500)\n",
    "\n",
    "for column in test.columns:\n",
    "    if column in shared_test_data:\n",
    "        shared_train_data[column].set_value(test[column].values)\n",
    "\n",
    "with model:\n",
    "    ppc_test = pm.sample_posterior_predictive(trace, samples=500)"
   ]
  },
  {
   "cell_type": "code",
   "execution_count": null,
   "metadata": {},
   "outputs": [],
   "source": []
  },
  {
   "cell_type": "code",
   "execution_count": null,
   "metadata": {},
   "outputs": [],
   "source": []
  },
  {
   "cell_type": "code",
   "execution_count": null,
   "metadata": {},
   "outputs": [],
   "source": []
  },
  {
   "cell_type": "code",
   "execution_count": null,
   "metadata": {},
   "outputs": [],
   "source": []
  },
  {
   "cell_type": "code",
   "execution_count": null,
   "metadata": {},
   "outputs": [],
   "source": []
  },
  {
   "cell_type": "code",
   "execution_count": null,
   "metadata": {},
   "outputs": [],
   "source": []
  },
  {
   "cell_type": "code",
   "execution_count": null,
   "metadata": {},
   "outputs": [],
   "source": []
  },
  {
   "cell_type": "code",
   "execution_count": null,
   "metadata": {},
   "outputs": [],
   "source": []
  }
 ],
 "metadata": {
  "kernelspec": {
   "display_name": "dataProject",
   "language": "python",
   "name": "dataproject"
  },
  "language_info": {
   "codemirror_mode": {
    "name": "ipython",
    "version": 3
   },
   "file_extension": ".py",
   "mimetype": "text/x-python",
   "name": "python",
   "nbconvert_exporter": "python",
   "pygments_lexer": "ipython3",
   "version": "3.11.4"
  }
 },
 "nbformat": 4,
 "nbformat_minor": 4
}
